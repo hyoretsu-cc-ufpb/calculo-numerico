{
  "cells": [
    {
      "cell_type": "markdown",
      "metadata": {
        "id": "ggFoT32U_CaO"
      },
      "source": [
        "###INTRODUÇÃO A INTELIGÊNCIA ARTIFICIAL\n",
        "\n",
        "Professor: ANDREI DE ARAUJO FORMIGA\n",
        "\n",
        "\n",
        "\n",
        "\n",
        "###Discentes:\n",
        "\n",
        "$Arthur\\:César$\n",
        "\n",
        "$Dayane\\:Freitas$\n",
        "\n",
        "$João\\:Pedro$"
      ]
    },
    {
      "cell_type": "code",
      "execution_count": 7,
      "metadata": {
        "id": "BQQVH2T75uyr"
      },
      "outputs": [],
      "source": [
        "from search import *\n",
        "from notebook import psource, heatmap, gaussian_kernel, show_map, final_path_colors, display_visual, plot_NQueens\n",
        "\n",
        "import warnings\n",
        "warnings.filterwarnings(\"ignore\")"
      ]
    },
    {
      "cell_type": "markdown",
      "metadata": {
        "id": "eZaElQUEB07-"
      },
      "source": [
        "Para visualizações, usamos networkx e matplotlib para mostrar o mapa no notebook e usamos ipywidgets para interagir com o mapa para ver como o algoritmo de busca funciona.\n"
      ]
    },
    {
      "cell_type": "code",
      "execution_count": 8,
      "metadata": {
        "id": "-RkRQs36B7H1"
      },
      "outputs": [],
      "source": [
        "%matplotlib inline\n",
        "import networkx as nx\n",
        "import matplotlib.pyplot as plt\n",
        "from matplotlib import lines\n",
        "\n",
        "from ipywidgets import interact\n",
        "import ipywidgets as widgets\n",
        "from IPython.display import display\n",
        "import time"
      ]
    },
    {
      "cell_type": "markdown",
      "metadata": {
        "id": "EkKmxk8-2Ruj"
      },
      "source": [
        "# PROBLEMA\n",
        "\n",
        "\n",
        "Como definimos um Problema. Execute a próxima célula para ver como a classe abstrata \"Problem\" é definida no módulo de pesquisa."
      ]
    },
    {
      "cell_type": "code",
      "execution_count": 9,
      "metadata": {
        "id": "9lYWNcSg2YhP"
      },
      "outputs": [],
      "source": [
        "class Problem(object):\n",
        "\n",
        "    def __init__(self, initial, goal=None):\n",
        "        \"\"\"O construtor especifica o estado inicial e, possivelmente, um objetivo\n",
        "        estado, se houver um objetivo único\"\"\"\n",
        "        self.initial = initial\n",
        "        self.goal = goal\n",
        "\n",
        "    def actions(self, state):\n",
        "        \"\"\"Retorna as ações que podem ser executadas no dado\n",
        "        Estado\"\"\"\n",
        "        raise NotImplementedError\n",
        "\n",
        "    def result(self, state, action):\n",
        "        \"\"\"Retorna o estado que resulta da execução do dado\n",
        "        ação no estado dado\"\"\"\n",
        "        raise NotImplementedError\n",
        "\n",
        "    def goal_test(self, state):\n",
        "        \"\"\"Retorna True se o estado for uma meta. O método padrão compara o\n",
        "        state para self.goal ou verifica o estado em self.goal se for um\n",
        "        list, conforme especificado no construtor\"\"\"\n",
        "        if isinstance(self.goal, list):\n",
        "            return is_in(state, self.goal)\n",
        "        else:\n",
        "            return state == self.goal\n",
        "\n",
        "    def path_cost(self, c, state1, action, state2):\n",
        "        \"\"\"Retorna o custo de um caminho de solução que chega ao state2 do\n",
        "        state1 via ação, assumindo custo c para chegar até state1. Se o problema\n",
        "        é tal que o caminho não importa, esta função irá apenas olhar para\n",
        "        state2. Se o caminho importa, ele considerará c e talvez state1\n",
        "        e ação. O método padrão custa 1 para cada passo no caminho.\"\"\"\n",
        "        return c + 1\n",
        "\n",
        "    def value(self, state):\n",
        "        \"\"\"Para problemas de otimização, cada estado tem um valor. Escalada\n",
        "        e algoritmos relacionados tentam maximizar esse valor.\"\"\"\n",
        "        raise NotImplementedError"
      ]
    },
    {
      "cell_type": "markdown",
      "metadata": {
        "id": "wcYsP_C06267"
      },
      "source": [
        "A classe Problem tem seis métodos.\n",
        "\n",
        "* __init__(self, initial, goal): Isso é o que é chamado de construtor. É o primeiro método chamado quando você cria uma instância da classe como Problem(initial, goal). Uma variável inicial especifica o estado inicial $s_0$ do problema de pesquisa. Representa o estado inicial. A partir daqui, nosso agente inicia sua tarefa de exploração para encontrar o(s) estado(s) objetivo(s) no parâmetro **goal**.\n",
        "\n",
        "\n",
        "* actions(self, state): Este método retorna todas as ações possíveis que o agente pode executar no estado dado **state**.\n",
        "\n",
        "\n",
        "*  result(self, state, action): Retorna o estado resultante se a ação **action** for executada no estado** state**. Sendo a classe **Problem** lida apenas com resultados determinísticos. Portanto, sabemos com certeza no que resultaria cada ação em um estado.\n",
        "\n",
        "\n",
        "*  goal_test(self, state): Retorna um booleano para um determinado estado **True** se for um estado objetivo, senão **False**.\n",
        "\n",
        "\n",
        "*  path_cost(self, c, state1, action, state2): Retorna o custo do caminho que chega a state2 como resultado de tomar actionde **state1**, assumindo o custo total de cchegar até **state1**.\n",
        "\n",
        "\n",
        "*  value(self, state): Isso funciona como uma informação extra em problemas em que tentamos otimizar um valor quando não podemos fazer um teste de meta.\n",
        "\n",
        "\n",
        "# NÓ\n",
        "\n",
        "Vamos ver como definimos um Nó. Execute a próxima célula para ver como a classe abstrata **Node** é definida no módulo de pesquisa.\n",
        "\n",
        "\n",
        "\n"
      ]
    },
    {
      "cell_type": "code",
      "execution_count": 10,
      "metadata": {
        "id": "Hn4mYx-uC8ON"
      },
      "outputs": [],
      "source": [
        "class Node:\n",
        "\n",
        "    \"\"\"Um nó em uma árvore de pesquisa. Contém um ponteiro para o pai (o nó\n",
        "    que este é um sucessor de) e para o estado real para este nó. Observação\n",
        "    que se um estado é alcançado por dois caminhos, então existem dois nós com\n",
        "    o mesmo estado\"\"\"\n",
        "\n",
        "    def __init__(self, state, parent=None, action=None, path_cost=0):\n",
        "        \"\"\"Cria um nó de árvore de pesquisa, derivado de um pai por uma ação.\"\"\"\n",
        "        self.state = state\n",
        "        self.parent = parent\n",
        "        self.action = action\n",
        "        self.path_cost = path_cost\n",
        "        self.depth = 0\n",
        "        if parent:\n",
        "            self.depth = parent.depth + 1\n",
        "\n",
        "    def __repr__(self):\n",
        "        return \"<Node {}>\".format(self.state)\n",
        "\n",
        "    def __lt__(self, node):\n",
        "        return self.state < node.state\n",
        "\n",
        "    def expand(self, problem):\n",
        "        \"\"\"Lista os nós alcançáveis ​​em uma etapa deste nó\"\"\"\n",
        "        return [self.child_node(problem, action)\n",
        "                for action in problem.actions(self.state)]\n",
        "\n",
        "    def child_node(self, problem, action):\n",
        "      \n",
        "        next_state = problem.result(self.state, action)\n",
        "        next_node = Node(next_state, self, action,\n",
        "                    problem.path_cost(self.path_cost, self.state,\n",
        "                                      action, next_state))\n",
        "        return next_node\n",
        "    \n",
        "    def solution(self):\n",
        "        \"\"\"Retorna a sequência de ações para ir da raiz até este nó\"\"\"\n",
        "        return [node.action for node in self.path()[1:]]\n",
        "\n",
        "    def path(self):\n",
        "        \"\"\"Retorna uma lista de nós que formam o caminho da raiz até este nó\"\"\"\n",
        "        node, path_back = self, []\n",
        "        while node:\n",
        "            path_back.append(node)\n",
        "            node = node.parent\n",
        "        return list(reversed(path_back))\n",
        "\n",
        "    def __eq__(self, other):\n",
        "        return isinstance(other, Node) and self.state == other.state\n",
        "\n",
        "    def __hash__(self):\n",
        "        return hash(self.state)"
      ]
    },
    {
      "cell_type": "markdown",
      "metadata": {
        "id": "a7Dsmp0c0b-L"
      },
      "source": [
        "A Nodeclasse tem nove métodos. O primeiro é o __init__método.\n",
        "\n",
        "\n",
        "\n",
        "*   __init__(self, state, parent, action, path_cost): este método cria um nó. parentrepresenta o nó do qual este é um sucessor e actioné a ação necessária para ir do nó pai para este nó. path_costé o custo para alcançar o nó atual a partir do nó pai.\n",
        "\n",
        "\n",
        "Os próximos 4 métodos são Nodefunções específicas relacionadas.\n",
        "\n",
        "\n",
        "\n",
        "*  expand(self, problem): Este método lista todos os nós vizinhos (alcançáveis ​​em uma etapa) do nó atual.\n",
        "\n",
        "\n",
        "*  child_node(self, problem, action): Dado um action, este método retorna o vizinho imediato que pode ser alcançado com aquele action.\n",
        "\n",
        "\n",
        "\n",
        "*  solution(self): retorna a sequência de ações necessárias para alcançar este nó a partir do nó raiz.\n",
        "\n",
        "\n",
        "* path(self): retorna uma lista de todos os nós que estão no caminho da raiz até este nó.\n",
        "\n",
        "\n",
        "\n",
        "Os 4 métodos restantes substituem a funcionalidade padrão do Python para representar um objeto como uma string, o operador menor que ($<$), o operador igual a ($=$) e a hashfunção.\n",
        "\n",
        "\n",
        "\n",
        "* __repr__(self): Isso retorna o estado deste nó.\n",
        "\n",
        "\n",
        "* __lt__(self, node): Dado a node, esse método retorna Truese o estado do nó atual for menor que o estado do node. Caso contrário, ele retorna False.\n",
        "\n",
        "\n",
        "\n",
        "* __eq__(self, other): Este método retorna Truese o estado do nó atual for igual ao do outro nó. Caso contrário, ele retorna False.\n",
        "\n",
        "\n",
        "\n",
        "* __hash__(self): Isso retorna o hash do estado do nó atual.\n",
        "\n",
        "\n",
        "Usaremos a classe abstrata Proble mpara definir nosso problema real chamado GraphProblem.\n",
        "\n",
        "\n",
        "\n",
        "\n",
        "\n",
        "\n",
        "\n",
        "\n",
        "\n",
        "\n",
        "\n",
        "\n",
        "\n",
        "\n",
        "\n",
        "\n",
        "\n",
        "\n",
        "\n"
      ]
    },
    {
      "cell_type": "code",
      "execution_count": null,
      "metadata": {
        "id": "Nw8iDcoD1KFa"
      },
      "outputs": [],
      "source": [
        "psource(GraphProblem)"
      ]
    },
    {
      "cell_type": "code",
      "execution_count": 11,
      "metadata": {
        "id": "-aKN5UKD1NK8"
      },
      "outputs": [],
      "source": [
        "class GraphProblem(Problem):\n",
        "\n",
        "    \"\"\"The problem of searching a graph from one node to another.\"\"\"\n",
        "\n",
        "    def __init__(self, initial, goal, graph):\n",
        "        Problem.__init__(self, initial, goal)\n",
        "        self.graph = graph\n",
        "\n",
        "    def actions(self, A):\n",
        "        \"\"\"The actions at a graph node are just its neighbors.\"\"\"\n",
        "        return list(self.graph.get(A).keys())\n",
        "\n",
        "    def result(self, state, action):\n",
        "        \"\"\"The result of going to a neighbor is just that neighbor.\"\"\"\n",
        "        return action\n",
        "\n",
        "    def path_cost(self, cost_so_far, A, action, B):\n",
        "        return cost_so_far + (self.graph.get(A, B) or infinity)\n",
        "\n",
        "    def find_min_edge(self):\n",
        "        \"\"\"Find minimum value of edges.\"\"\"\n",
        "        m = infinity\n",
        "        for d in self.graph.graph_dict.values():\n",
        "            local_min = min(d.values())\n",
        "            m = min(m, local_min)\n",
        "\n",
        "        return m\n",
        "\n",
        "    def h(self, node):\n",
        "        \"\"\"h function is straight-line distance from a node's state to goal.\"\"\"\n",
        "        locs = getattr(self.graph, 'locations', None)\n",
        "        if locs:\n",
        "            if type(node) is str:\n",
        "                return int(distance(locs[node], locs[self.goal]))\n",
        "\n",
        "            return int(distance(locs[node.state], locs[self.goal]))\n",
        "        else:\n",
        "            return infinity"
      ]
    },
    {
      "cell_type": "code",
      "execution_count": 12,
      "metadata": {
        "id": "sB1fpCDs1Pll"
      },
      "outputs": [
        {
          "ename": "NameError",
          "evalue": "name 'UndirectedGraph' is not defined",
          "output_type": "error",
          "traceback": [
            "\u001b[0;31m---------------------------------------------------------------------------\u001b[0m",
            "\u001b[0;31mNameError\u001b[0m                                 Traceback (most recent call last)",
            "\u001b[1;32m/home/hyoretsu/@Projects/@ufpb/calculo-numerico/Atividade06 (1).ipynb Cell 11\u001b[0m in \u001b[0;36m<cell line: 1>\u001b[0;34m()\u001b[0m\n\u001b[0;32m----> <a href='vscode-notebook-cell://wsl%2Bubuntu/home/hyoretsu/%40Projects/%40ufpb/calculo-numerico/Atividade06%20%281%29.ipynb#X14sdnNjb2RlLXJlbW90ZQ%3D%3D?line=0'>1</a>\u001b[0m romania_map \u001b[39m=\u001b[39m UndirectedGraph(\u001b[39mdict\u001b[39m(\n\u001b[1;32m      <a href='vscode-notebook-cell://wsl%2Bubuntu/home/hyoretsu/%40Projects/%40ufpb/calculo-numerico/Atividade06%20%281%29.ipynb#X14sdnNjb2RlLXJlbW90ZQ%3D%3D?line=1'>2</a>\u001b[0m     Arad\u001b[39m=\u001b[39m\u001b[39mdict\u001b[39m(Zerind\u001b[39m=\u001b[39m\u001b[39m75\u001b[39m, Sibiu\u001b[39m=\u001b[39m\u001b[39m140\u001b[39m, Timisoara\u001b[39m=\u001b[39m\u001b[39m118\u001b[39m),\n\u001b[1;32m      <a href='vscode-notebook-cell://wsl%2Bubuntu/home/hyoretsu/%40Projects/%40ufpb/calculo-numerico/Atividade06%20%281%29.ipynb#X14sdnNjb2RlLXJlbW90ZQ%3D%3D?line=2'>3</a>\u001b[0m     Bucharest\u001b[39m=\u001b[39m\u001b[39mdict\u001b[39m(Urziceni\u001b[39m=\u001b[39m\u001b[39m85\u001b[39m, Pitesti\u001b[39m=\u001b[39m\u001b[39m101\u001b[39m, Giurgiu\u001b[39m=\u001b[39m\u001b[39m90\u001b[39m, Fagaras\u001b[39m=\u001b[39m\u001b[39m211\u001b[39m),\n\u001b[1;32m      <a href='vscode-notebook-cell://wsl%2Bubuntu/home/hyoretsu/%40Projects/%40ufpb/calculo-numerico/Atividade06%20%281%29.ipynb#X14sdnNjb2RlLXJlbW90ZQ%3D%3D?line=3'>4</a>\u001b[0m     Craiova\u001b[39m=\u001b[39m\u001b[39mdict\u001b[39m(Drobeta\u001b[39m=\u001b[39m\u001b[39m120\u001b[39m, Rimnicu\u001b[39m=\u001b[39m\u001b[39m146\u001b[39m, Pitesti\u001b[39m=\u001b[39m\u001b[39m138\u001b[39m),\n\u001b[1;32m      <a href='vscode-notebook-cell://wsl%2Bubuntu/home/hyoretsu/%40Projects/%40ufpb/calculo-numerico/Atividade06%20%281%29.ipynb#X14sdnNjb2RlLXJlbW90ZQ%3D%3D?line=4'>5</a>\u001b[0m     Drobeta\u001b[39m=\u001b[39m\u001b[39mdict\u001b[39m(Mehadia\u001b[39m=\u001b[39m\u001b[39m75\u001b[39m),\n\u001b[1;32m      <a href='vscode-notebook-cell://wsl%2Bubuntu/home/hyoretsu/%40Projects/%40ufpb/calculo-numerico/Atividade06%20%281%29.ipynb#X14sdnNjb2RlLXJlbW90ZQ%3D%3D?line=5'>6</a>\u001b[0m     Eforie\u001b[39m=\u001b[39m\u001b[39mdict\u001b[39m(Hirsova\u001b[39m=\u001b[39m\u001b[39m86\u001b[39m),\n\u001b[1;32m      <a href='vscode-notebook-cell://wsl%2Bubuntu/home/hyoretsu/%40Projects/%40ufpb/calculo-numerico/Atividade06%20%281%29.ipynb#X14sdnNjb2RlLXJlbW90ZQ%3D%3D?line=6'>7</a>\u001b[0m     Fagaras\u001b[39m=\u001b[39m\u001b[39mdict\u001b[39m(Sibiu\u001b[39m=\u001b[39m\u001b[39m99\u001b[39m),\n\u001b[1;32m      <a href='vscode-notebook-cell://wsl%2Bubuntu/home/hyoretsu/%40Projects/%40ufpb/calculo-numerico/Atividade06%20%281%29.ipynb#X14sdnNjb2RlLXJlbW90ZQ%3D%3D?line=7'>8</a>\u001b[0m     Hirsova\u001b[39m=\u001b[39m\u001b[39mdict\u001b[39m(Urziceni\u001b[39m=\u001b[39m\u001b[39m98\u001b[39m),\n\u001b[1;32m      <a href='vscode-notebook-cell://wsl%2Bubuntu/home/hyoretsu/%40Projects/%40ufpb/calculo-numerico/Atividade06%20%281%29.ipynb#X14sdnNjb2RlLXJlbW90ZQ%3D%3D?line=8'>9</a>\u001b[0m     Iasi\u001b[39m=\u001b[39m\u001b[39mdict\u001b[39m(Vaslui\u001b[39m=\u001b[39m\u001b[39m92\u001b[39m, Neamt\u001b[39m=\u001b[39m\u001b[39m87\u001b[39m),\n\u001b[1;32m     <a href='vscode-notebook-cell://wsl%2Bubuntu/home/hyoretsu/%40Projects/%40ufpb/calculo-numerico/Atividade06%20%281%29.ipynb#X14sdnNjb2RlLXJlbW90ZQ%3D%3D?line=9'>10</a>\u001b[0m     Lugoj\u001b[39m=\u001b[39m\u001b[39mdict\u001b[39m(Timisoara\u001b[39m=\u001b[39m\u001b[39m111\u001b[39m, Mehadia\u001b[39m=\u001b[39m\u001b[39m70\u001b[39m),\n\u001b[1;32m     <a href='vscode-notebook-cell://wsl%2Bubuntu/home/hyoretsu/%40Projects/%40ufpb/calculo-numerico/Atividade06%20%281%29.ipynb#X14sdnNjb2RlLXJlbW90ZQ%3D%3D?line=10'>11</a>\u001b[0m     Oradea\u001b[39m=\u001b[39m\u001b[39mdict\u001b[39m(Zerind\u001b[39m=\u001b[39m\u001b[39m71\u001b[39m, Sibiu\u001b[39m=\u001b[39m\u001b[39m151\u001b[39m),\n\u001b[1;32m     <a href='vscode-notebook-cell://wsl%2Bubuntu/home/hyoretsu/%40Projects/%40ufpb/calculo-numerico/Atividade06%20%281%29.ipynb#X14sdnNjb2RlLXJlbW90ZQ%3D%3D?line=11'>12</a>\u001b[0m     Pitesti\u001b[39m=\u001b[39m\u001b[39mdict\u001b[39m(Rimnicu\u001b[39m=\u001b[39m\u001b[39m97\u001b[39m),\n\u001b[1;32m     <a href='vscode-notebook-cell://wsl%2Bubuntu/home/hyoretsu/%40Projects/%40ufpb/calculo-numerico/Atividade06%20%281%29.ipynb#X14sdnNjb2RlLXJlbW90ZQ%3D%3D?line=12'>13</a>\u001b[0m     Rimnicu\u001b[39m=\u001b[39m\u001b[39mdict\u001b[39m(Sibiu\u001b[39m=\u001b[39m\u001b[39m80\u001b[39m),\n\u001b[1;32m     <a href='vscode-notebook-cell://wsl%2Bubuntu/home/hyoretsu/%40Projects/%40ufpb/calculo-numerico/Atividade06%20%281%29.ipynb#X14sdnNjb2RlLXJlbW90ZQ%3D%3D?line=13'>14</a>\u001b[0m     Urziceni\u001b[39m=\u001b[39m\u001b[39mdict\u001b[39m(Vaslui\u001b[39m=\u001b[39m\u001b[39m142\u001b[39m)))\n\u001b[1;32m     <a href='vscode-notebook-cell://wsl%2Bubuntu/home/hyoretsu/%40Projects/%40ufpb/calculo-numerico/Atividade06%20%281%29.ipynb#X14sdnNjb2RlLXJlbW90ZQ%3D%3D?line=15'>16</a>\u001b[0m romania_map\u001b[39m.\u001b[39mlocations \u001b[39m=\u001b[39m \u001b[39mdict\u001b[39m(\n\u001b[1;32m     <a href='vscode-notebook-cell://wsl%2Bubuntu/home/hyoretsu/%40Projects/%40ufpb/calculo-numerico/Atividade06%20%281%29.ipynb#X14sdnNjb2RlLXJlbW90ZQ%3D%3D?line=16'>17</a>\u001b[0m     Arad\u001b[39m=\u001b[39m(\u001b[39m91\u001b[39m, \u001b[39m492\u001b[39m), Bucharest\u001b[39m=\u001b[39m(\u001b[39m400\u001b[39m, \u001b[39m327\u001b[39m), Craiova\u001b[39m=\u001b[39m(\u001b[39m253\u001b[39m, \u001b[39m288\u001b[39m),\n\u001b[1;32m     <a href='vscode-notebook-cell://wsl%2Bubuntu/home/hyoretsu/%40Projects/%40ufpb/calculo-numerico/Atividade06%20%281%29.ipynb#X14sdnNjb2RlLXJlbW90ZQ%3D%3D?line=17'>18</a>\u001b[0m     Drobeta\u001b[39m=\u001b[39m(\u001b[39m165\u001b[39m, \u001b[39m299\u001b[39m), Eforie\u001b[39m=\u001b[39m(\u001b[39m562\u001b[39m, \u001b[39m293\u001b[39m), Fagaras\u001b[39m=\u001b[39m(\u001b[39m305\u001b[39m, \u001b[39m449\u001b[39m),\n\u001b[0;32m   (...)\u001b[0m\n\u001b[1;32m     <a href='vscode-notebook-cell://wsl%2Bubuntu/home/hyoretsu/%40Projects/%40ufpb/calculo-numerico/Atividade06%20%281%29.ipynb#X14sdnNjb2RlLXJlbW90ZQ%3D%3D?line=21'>22</a>\u001b[0m     Sibiu\u001b[39m=\u001b[39m(\u001b[39m207\u001b[39m, \u001b[39m457\u001b[39m), Timisoara\u001b[39m=\u001b[39m(\u001b[39m94\u001b[39m, \u001b[39m410\u001b[39m), Urziceni\u001b[39m=\u001b[39m(\u001b[39m456\u001b[39m, \u001b[39m350\u001b[39m),\n\u001b[1;32m     <a href='vscode-notebook-cell://wsl%2Bubuntu/home/hyoretsu/%40Projects/%40ufpb/calculo-numerico/Atividade06%20%281%29.ipynb#X14sdnNjb2RlLXJlbW90ZQ%3D%3D?line=22'>23</a>\u001b[0m     Vaslui\u001b[39m=\u001b[39m(\u001b[39m509\u001b[39m, \u001b[39m444\u001b[39m), Zerind\u001b[39m=\u001b[39m(\u001b[39m108\u001b[39m, \u001b[39m531\u001b[39m))\n",
            "\u001b[0;31mNameError\u001b[0m: name 'UndirectedGraph' is not defined"
          ]
        }
      ],
      "source": [
        "romania_map = UndirectedGraph(dict(\n",
        "    Arad=dict(Zerind=75, Sibiu=140, Timisoara=118),\n",
        "    Bucharest=dict(Urziceni=85, Pitesti=101, Giurgiu=90, Fagaras=211),\n",
        "    Craiova=dict(Drobeta=120, Rimnicu=146, Pitesti=138),\n",
        "    Drobeta=dict(Mehadia=75),\n",
        "    Eforie=dict(Hirsova=86),\n",
        "    Fagaras=dict(Sibiu=99),\n",
        "    Hirsova=dict(Urziceni=98),\n",
        "    Iasi=dict(Vaslui=92, Neamt=87),\n",
        "    Lugoj=dict(Timisoara=111, Mehadia=70),\n",
        "    Oradea=dict(Zerind=71, Sibiu=151),\n",
        "    Pitesti=dict(Rimnicu=97),\n",
        "    Rimnicu=dict(Sibiu=80),\n",
        "    Urziceni=dict(Vaslui=142)))\n",
        "\n",
        "romania_map.locations = dict(\n",
        "    Arad=(91, 492), Bucharest=(400, 327), Craiova=(253, 288),\n",
        "    Drobeta=(165, 299), Eforie=(562, 293), Fagaras=(305, 449),\n",
        "    Giurgiu=(375, 270), Hirsova=(534, 350), Iasi=(473, 506),\n",
        "    Lugoj=(165, 379), Mehadia=(168, 339), Neamt=(406, 537),\n",
        "    Oradea=(131, 571), Pitesti=(320, 368), Rimnicu=(233, 410),\n",
        "    Sibiu=(207, 457), Timisoara=(94, 410), Urziceni=(456, 350),\n",
        "    Vaslui=(509, 444), Zerind=(108, 531))"
      ]
    },
    {
      "cell_type": "markdown",
      "metadata": {
        "id": "V01x3F1a1YzF"
      },
      "source": [
        "É bastante simples entender isso romania_map. O primeiro nó Arad tem três vizinhos chamados Zerind , Sibiu , Timisoara . Cada um desses nós tem 75, 140, 118 unidades além de Arad , respectivamente. E o mesmo acontece com outros nós.\n",
        "\n",
        "E romania_map.locationscontém as posições de cada um dos nós. Usaremos a distância em linha reta (que é diferente da fornecida em romania_map) entre duas cidades em algoritmos como A*-search e Recursive Best First Search.\n",
        "\n",
        "Definir um problema: Agora é hora de definir nosso problema. Vamos defini-lo passando initial, goal, graphpara GraphProblem. Então, nosso problema é encontrar o estado objetivo a partir do estado inicial dado no gráfico fornecido.\n",
        "\n",
        "Digamos que queremos começar a explorar a partir de Arad e tentar encontrar Bucareste em nosso romania_map. Então, é assim que fazemos."
      ]
    },
    {
      "cell_type": "code",
      "execution_count": null,
      "metadata": {
        "id": "mAYbprkO1dqh"
      },
      "outputs": [],
      "source": [
        "romania_problem = GraphProblem('Arad', 'Bucharest', romania_map)"
      ]
    },
    {
      "cell_type": "markdown",
      "metadata": {
        "id": "nlXgpg8T1fxF"
      },
      "source": [
        "##PROGRAMA DE AGENTE DE RESOLUÇÃO DE PROBLEMAS SIMPLES\n",
        "\n",
        "\n",
        "Vamos agora definir um Programa Simples de Agente de Resolução de Problemas. Execute a próxima célula para ver como a classe abstrata SimpleProblemSolvingAgentProgramé definida no módulo de pesquisa."
      ]
    },
    {
      "cell_type": "code",
      "execution_count": null,
      "metadata": {
        "id": "XzeTpCgr1sy8"
      },
      "outputs": [],
      "source": [
        "psource(SimpleProblemSolvingAgentProgram)"
      ]
    },
    {
      "cell_type": "code",
      "execution_count": null,
      "metadata": {
        "id": "y4UASeiN1xgB"
      },
      "outputs": [],
      "source": [
        "class SimpleProblemSolvingAgentProgram:\n",
        "\n",
        "    \"\"\"Abstract framework for a problem-solving agent. [Figure 3.1]\"\"\"\n",
        "\n",
        "    def __init__(self, initial_state=None):\n",
        "        \"\"\"State is an abstract representation of the state\n",
        "        of the world, and seq is the list of actions required\n",
        "        to get to a particular state from the initial state(root).\"\"\"\n",
        "        self.state = initial_state\n",
        "        self.seq = []\n",
        "\n",
        "    def __call__(self, percept):\n",
        "        \"\"\"[Figure 3.1] Formulate a goal and problem, then\n",
        "        search for a sequence of actions to solve it.\"\"\"\n",
        "        self.state = self.update_state(self.state, percept)\n",
        "        if not self.seq:\n",
        "            goal = self.formulate_goal(self.state)\n",
        "            problem = self.formulate_problem(self.state, goal)\n",
        "            self.seq = self.search(problem)\n",
        "            if not self.seq:\n",
        "                return None\n",
        "        return self.seq.pop(0)\n",
        "\n",
        "    def update_state(self, state, percept):\n",
        "        raise NotImplementedError\n",
        "\n",
        "    def formulate_goal(self, state):\n",
        "        raise NotImplementedError\n",
        "\n",
        "    def formulate_problem(self, state, goal):\n",
        "        raise NotImplementedError\n",
        "\n",
        "    def search(self, problem):\n",
        "        raise NotImplementedError"
      ]
    },
    {
      "cell_type": "markdown",
      "metadata": {
        "id": "W-SAunUt1zFk"
      },
      "source": [
        "A classe SimpleProblemSolvingAgentProgram tem seis métodos:\n",
        "\n",
        "\n",
        "\n",
        "* __init__(self, intial_state=None): Este é o contructorda classe e é o primeiro método a ser chamado quando a classe é instanciada. Ele recebe um argumento de palavra-chave, initial_stateque é inicialmente None. O argumento initial_staterepresenta o estado a partir do qual o agente inicia.\n",
        "\n",
        "\n",
        "* __call__(self, percept): Este método atualiza o stateagente com base em seu perceptuso do update_statemétodo. Em seguida, ele formula a goalcom a ajuda do formulate_goalmétodo e a problemusando o formulate_problemmétodo e retorna uma sequência de ações para resolvê-lo (usando o searchmétodo).\n",
        "\n",
        "\n",
        "* update_state(self, percept): Este método atualiza o statedo agente com base em seu arquivo percept.\n",
        "\n",
        "\n",
        "* formulate_goal(self, state): Dado um statedo agente, este método formula o goalpara ele.\n",
        "\n",
        "\n",
        "\n",
        "* formulate_problem(self, state, goal): É usado na formulação do problema dado a statee a goalpara o agent.\n",
        "\n",
        "\n",
        "* search(self, problem): Este método é usado para pesquisar uma sequência de actionspara resolver um problem.\n",
        "\n",
        "\n",
        "\n",
        "\n",
        "\n",
        "\n",
        "\n",
        "\n"
      ]
    },
    {
      "cell_type": "markdown",
      "metadata": {
        "id": "0FrajM_82D02"
      },
      "source": [
        "Vamos agora definir um Programa Simples de Agente de Resolução de Problemas. Criaremos uma vacuumAgentclasse simples que herdará da classe abstrata SimpleProblemSolvingAgentPrograme substituirá seus métodos. Vamos criar um agente de vácuo inteligente simples que pode estar em qualquer um dos seguintes estados. Ele se moverá para qualquer outro estado, dependendo do estado atual, conforme mostrado na imagem por setas:"
      ]
    },
    {
      "cell_type": "code",
      "execution_count": null,
      "metadata": {
        "id": "SRn6xuok2EhV"
      },
      "outputs": [],
      "source": [
        "class vacuumAgent(SimpleProblemSolvingAgentProgram):\n",
        "        def update_state(self, state, percept):\n",
        "            return percept\n",
        "\n",
        "        def formulate_goal(self, state):\n",
        "            goal = [state7, state8]\n",
        "            return goal  \n",
        "\n",
        "        def formulate_problem(self, state, goal):\n",
        "            problem = state\n",
        "            return problem   \n",
        "    \n",
        "        def search(self, problem):\n",
        "            if problem == state1:\n",
        "                seq = [\"Suck\", \"Right\", \"Suck\"]\n",
        "            elif problem == state2:\n",
        "                seq = [\"Suck\", \"Left\", \"Suck\"]\n",
        "            elif problem == state3:\n",
        "                seq = [\"Right\", \"Suck\"]\n",
        "            elif problem == state4:\n",
        "                seq = [\"Suck\"]\n",
        "            elif problem == state5:\n",
        "                seq = [\"Suck\"]\n",
        "            elif problem == state6:\n",
        "                seq = [\"Left\", \"Suck\"]\n",
        "            return seq"
      ]
    },
    {
      "cell_type": "markdown",
      "metadata": {
        "id": "252tJgwt2Gd0"
      },
      "source": [
        "Agora, vamos definir todos os 8 estados e criar um objeto da classe acima. Então, vamos passar diferentes estados e verificar a saída:"
      ]
    },
    {
      "cell_type": "code",
      "execution_count": null,
      "metadata": {
        "id": "cEJ7HV_k2Hj9"
      },
      "outputs": [],
      "source": [
        "state1 = [(0, 0), [(0, 0), \"Dirty\"], [(1, 0), [\"Dirty\"]]]\n",
        "state2 = [(1, 0), [(0, 0), \"Dirty\"], [(1, 0), [\"Dirty\"]]]\n",
        "state3 = [(0, 0), [(0, 0), \"Clean\"], [(1, 0), [\"Dirty\"]]]\n",
        "state4 = [(1, 0), [(0, 0), \"Clean\"], [(1, 0), [\"Dirty\"]]]\n",
        "state5 = [(0, 0), [(0, 0), \"Dirty\"], [(1, 0), [\"Clean\"]]]\n",
        "state6 = [(1, 0), [(0, 0), \"Dirty\"], [(1, 0), [\"Clean\"]]]\n",
        "state7 = [(0, 0), [(0, 0), \"Clean\"], [(1, 0), [\"Clean\"]]]\n",
        "state8 = [(1, 0), [(0, 0), \"Clean\"], [(1, 0), [\"Clean\"]]]\n",
        "\n",
        "a = vacuumAgent(state1)\n",
        "\n",
        "print(a(state6)) \n",
        "print(a(state1))\n",
        "print(a(state3))"
      ]
    },
    {
      "cell_type": "markdown",
      "metadata": {
        "id": "Hcaave0T2WpE"
      },
      "source": [
        "##Pesquisa em profundidade"
      ]
    },
    {
      "cell_type": "code",
      "execution_count": null,
      "metadata": {
        "id": "0ErzcAhM2YP5"
      },
      "outputs": [],
      "source": [
        "def tree_depth_search_for_vis(problem):\n",
        "    \"\"\"Pesquisa os sucessores de um problema para encontrar um objetivo.\n",
        "    A fronteira do argumento deve ser uma fila vazia.\"\"\"\n",
        "    \n",
        "    \n",
        "    iterations = 0\n",
        "    all_node_colors = []\n",
        "    node_colors = {k : 'white' for k in problem.graph.nodes()}\n",
        "    \n",
        "   \n",
        "    frontier = [Node(problem.initial)]\n",
        "    \n",
        "    node_colors[Node(problem.initial).state] = \"orange\"\n",
        "    iterations += 1\n",
        "    all_node_colors.append(dict(node_colors))\n",
        "    \n",
        "    while frontier:\n",
        "     \n",
        "        node = frontier.pop()\n",
        "       \n",
        "        node_colors[node.state] = \"red\"\n",
        "        iterations += 1\n",
        "        all_node_colors.append(dict(node_colors))\n",
        "        \n",
        "        if problem.goal_test(node.state):\n",
        "      \n",
        "            node_colors[node.state] = \"green\"\n",
        "            iterations += 1\n",
        "            all_node_colors.append(dict(node_colors))\n",
        "            return(iterations, all_node_colors, node)\n",
        "        \n",
        "        frontier.extend(node.expand(problem))\n",
        "           \n",
        "        for n in node.expand(problem):\n",
        "            node_colors[n.state] = \"orange\"\n",
        "            iterations += 1\n",
        "            all_node_colors.append(dict(node_colors))\n",
        "\n",
        "      \n",
        "        node_colors[node.state] = \"gray\"\n",
        "        iterations += 1\n",
        "        all_node_colors.append(dict(node_colors))\n",
        "        \n",
        "    return None\n",
        "\n",
        "def depth_first_tree_search(problem):\n",
        "    \"Search the deepest nodes in the search tree first.\"\n",
        "    iterations, all_node_colors, node = tree_depth_search_for_vis(problem)\n",
        "    return(iterations, all_node_colors, node)"
      ]
    },
    {
      "cell_type": "markdown",
      "metadata": {
        "id": "uJFg9ufk3kol"
      },
      "source": [
        "##Problema de quebra-cabeça\n",
        "\n",
        "O Problema do 8 Puzzle consiste em uma bandeja 3x3 na qual o objetivo é obter a configuração inicial para o estado objetivo, deslocando as peças numeradas para o espaço em branco.\n",
        "\n",
        "Temos um total de 9 peças em branco, dando-nos um total de 9! configuração inicial, mas nem todas são solucionáveis. A solubilidade de uma configuração pode ser verificada calculando a Permutação de Inversão. Se a Permutação de Inversão total for par, então a configuração inicial é solucionável, caso contrário a configuração inicial não é solucionável, o que significa que apenas 9!/2 estados iniciais levam a uma solução.\n",
        "Vamos definir nosso estado de meta."
      ]
    },
    {
      "cell_type": "code",
      "execution_count": null,
      "metadata": {
        "id": "FwYxmMS_3ngp"
      },
      "outputs": [],
      "source": [
        "goal = [1, 2, 3, 4, 5, 6, 7, 8, 0]"
      ]
    },
    {
      "cell_type": "code",
      "execution_count": null,
      "metadata": {
        "id": "jFN5SddA3yMa"
      },
      "outputs": [],
      "source": [
        "\n",
        "def linear(node):\n",
        "    return sum([1 if node.state[i] != goal[i] else 0 for i in range(8)])\n",
        "\n",
        "def manhattan(node):\n",
        "    state = node.state\n",
        "    index_goal = {0:[2,2], 1:[0,0], 2:[0,1], 3:[0,2], 4:[1,0], 5:[1,1], 6:[1,2], 7:[2,0], 8:[2,1]}\n",
        "    index_state = {}\n",
        "    index = [[0,0], [0,1], [0,2], [1,0], [1,1], [1,2], [2,0], [2,1], [2,2]]\n",
        "    x, y = 0, 0\n",
        "    \n",
        "    for i in range(len(state)):\n",
        "        index_state[state[i]] = index[i]\n",
        "    \n",
        "    mhd = 0\n",
        "    \n",
        "    for i in range(8):\n",
        "        for j in range(2):\n",
        "            mhd = abs(index_goal[i][j] - index_state[i][j]) + mhd\n",
        "    \n",
        "    return mhd\n",
        "\n",
        "def sqrt_manhattan(node):\n",
        "    state = node.state\n",
        "    index_goal = {0:[2,2], 1:[0,0], 2:[0,1], 3:[0,2], 4:[1,0], 5:[1,1], 6:[1,2], 7:[2,0], 8:[2,1]}\n",
        "    index_state = {}\n",
        "    index = [[0,0], [0,1], [0,2], [1,0], [1,1], [1,2], [2,0], [2,1], [2,2]]\n",
        "    x, y = 0, 0\n",
        "    \n",
        "    for i in range(len(state)):\n",
        "        index_state[state[i]] = index[i]\n",
        "    \n",
        "    mhd = 0\n",
        "    \n",
        "    for i in range(8):\n",
        "        for j in range(2):\n",
        "            mhd = (index_goal[i][j] - index_state[i][j])**2 + mhd\n",
        "    \n",
        "    return math.sqrt(mhd)\n",
        "\n",
        "def max_heuristic(node):\n",
        "    score1 = manhattan(node)\n",
        "    score2 = linear(node)\n",
        "    return max(score1, score2)"
      ]
    },
    {
      "cell_type": "markdown",
      "metadata": {
        "id": "ze9DqeGg3zYA"
      },
      "source": [
        "Podemos resolver o quebra-cabeça usando o método astar_search."
      ]
    },
    {
      "cell_type": "code",
      "execution_count": null,
      "metadata": {
        "id": "XWLfnupe32-o"
      },
      "outputs": [],
      "source": [
        "puzzle = EightPuzzle((2, 4, 3, 1, 5, 6, 7, 8, 0))\n",
        "puzzle.check_solvability((2, 4, 3, 1, 5, 6, 7, 8, 0))"
      ]
    },
    {
      "cell_type": "markdown",
      "metadata": {
        "id": "0Bo6ldXv38DM"
      },
      "source": [
        "Este caso é solucionável, vamos prosseguir.\n",
        "A função heurística padrão retorna o número de ladrilhos mal colocados."
      ]
    },
    {
      "cell_type": "code",
      "execution_count": null,
      "metadata": {
        "id": "C4xoHbpe3-ZS"
      },
      "outputs": [],
      "source": [
        "astar_search(puzzle).solution()"
      ]
    },
    {
      "cell_type": "markdown",
      "metadata": {
        "id": "W_jsOcYG4B10"
      },
      "source": [
        "Nas células a seguir, usamos diferentes funções heurísticas."
      ]
    },
    {
      "cell_type": "code",
      "execution_count": null,
      "metadata": {
        "id": "jjgfEKnc4CHM"
      },
      "outputs": [],
      "source": [
        "astar_search(puzzle, linear).solution()"
      ]
    },
    {
      "cell_type": "code",
      "execution_count": null,
      "metadata": {
        "id": "iXwnV6kB4FMZ"
      },
      "outputs": [],
      "source": [
        "astar_search(puzzle, manhattan).solution()"
      ]
    },
    {
      "cell_type": "code",
      "execution_count": null,
      "metadata": {
        "id": "BVuJqEpC4L4K"
      },
      "outputs": [],
      "source": [
        "astar_search(puzzle, max_heuristic).solution()"
      ]
    },
    {
      "cell_type": "code",
      "execution_count": null,
      "metadata": {
        "id": "txWuHXWj4NTB"
      },
      "outputs": [],
      "source": []
    },
    {
      "cell_type": "markdown",
      "metadata": {
        "id": "nzhfR96M4Ozj"
      },
      "source": [
        "E aqui está como recursive_best_first_searchpode ser usado para resolver este problema também."
      ]
    },
    {
      "cell_type": "code",
      "execution_count": null,
      "metadata": {
        "id": "xspimDDA4PJ4"
      },
      "outputs": [],
      "source": [
        "recursive_best_first_search(puzzle, manhattan).solution()"
      ]
    },
    {
      "cell_type": "markdown",
      "metadata": {
        "id": "f8-T9jJW4QOA"
      },
      "source": [
        "Mesmo que todas as funções heurísticas forneçam a mesma solução, a diferença está no tempo de computação.\n",
        "Isso pode fazer toda a diferença em um cenário onde é necessária alta eficiência computacional.\n",
        "Vamos definir alguns estados de quebra-cabeça e tempo astar_searchpara cada função heurística. Usaremos a mágica %%timeit para isso."
      ]
    },
    {
      "cell_type": "code",
      "execution_count": null,
      "metadata": {
        "id": "8W0JKEM_4Rax"
      },
      "outputs": [],
      "source": [
        "puzzle_1 = EightPuzzle((2, 4, 3, 1, 5, 6, 7, 8, 0))\n",
        "puzzle_2 = EightPuzzle((1, 2, 3, 4, 5, 6, 0, 7, 8))\n",
        "puzzle_3 = EightPuzzle((1, 2, 3, 4, 5, 7, 8, 6, 0))"
      ]
    },
    {
      "cell_type": "markdown",
      "metadata": {
        "id": "P_u2n6Xm4Trb"
      },
      "source": [
        "A função heurística padrão é a mesma que a linearfunção heurística, mas ainda verificaremos ambas."
      ]
    },
    {
      "cell_type": "code",
      "execution_count": null,
      "metadata": {
        "id": "49wOG8Ze4T-w"
      },
      "outputs": [],
      "source": [
        "%%timeit\n",
        "astar_search(puzzle_1)\n",
        "astar_search(puzzle_2)\n",
        "astar_search(puzzle_3)"
      ]
    },
    {
      "cell_type": "code",
      "execution_count": null,
      "metadata": {
        "id": "EbHuW2HH4VJj"
      },
      "outputs": [],
      "source": [
        "%%timeit\n",
        "astar_search(puzzle_1, linear)\n",
        "astar_search(puzzle_2, linear)\n",
        "astar_search(puzzle_3, linear)"
      ]
    },
    {
      "cell_type": "code",
      "execution_count": null,
      "metadata": {
        "id": "rwgiWpGG4YJj"
      },
      "outputs": [],
      "source": [
        "%%timeit\n",
        "astar_search(puzzle_1, manhattan)\n",
        "astar_search(puzzle_2, manhattan)\n",
        "astar_search(puzzle_3, manhattan)"
      ]
    },
    {
      "cell_type": "code",
      "execution_count": null,
      "metadata": {
        "id": "44kQRaku4Yas"
      },
      "outputs": [],
      "source": [
        "%%timeit\n",
        "astar_search(puzzle_1, sqrt_manhattan)\n",
        "astar_search(puzzle_2, sqrt_manhattan)\n",
        "astar_search(puzzle_3, sqrt_manhattan)"
      ]
    },
    {
      "cell_type": "code",
      "execution_count": null,
      "metadata": {
        "id": "uFqXvD3R4ZmY"
      },
      "outputs": [],
      "source": [
        "%%timeit\n",
        "astar_search(puzzle_1, max_heuristic)\n",
        "astar_search(puzzle_2, max_heuristic)\n",
        "astar_search(puzzle_3, max_heuristic)"
      ]
    },
    {
      "cell_type": "markdown",
      "metadata": {
        "id": "A23fO5XY4cah"
      },
      "source": [
        "Podemos inferir que a manhattanfunção heurística funciona mais rápido.\n",
        "sqrt_manhattantem uma operação extra sqrtque o torna muito mais lento que os outros.\n",
        "max_heuristicdeveria ter sido um pouco mais lento, pois chama duas funções, mas neste caso, esses valores já foram calculados o que economizou algum tempo. Sinta-se à vontade para brincar com essas funções.\n",
        "\n",
        "Para comparação, é assim que o RBFS se comporta nesse problema."
      ]
    },
    {
      "cell_type": "code",
      "execution_count": null,
      "metadata": {
        "id": "mPMiq_d64hgn"
      },
      "outputs": [],
      "source": [
        "%%timeit\n",
        "recursive_best_first_search(puzzle_1, linear)\n",
        "recursive_best_first_search(puzzle_2, linear)\n",
        "recursive_best_first_search(puzzle_3, linear)"
      ]
    },
    {
      "cell_type": "markdown",
      "metadata": {
        "id": "qZtDyJi94hyT"
      },
      "source": [
        "É muito mais lento do astar_searchque podemos ver."
      ]
    }
  ],
  "metadata": {
    "colab": {
      "collapsed_sections": [],
      "name": "Atividade06.ipynb",
      "provenance": []
    },
    "kernelspec": {
      "display_name": "Python 3.10.6 64-bit",
      "language": "python",
      "name": "python3"
    },
    "language_info": {
      "codemirror_mode": {
        "name": "ipython",
        "version": 3
      },
      "file_extension": ".py",
      "mimetype": "text/x-python",
      "name": "python",
      "nbconvert_exporter": "python",
      "pygments_lexer": "ipython3",
      "version": "3.10.6"
    },
    "vscode": {
      "interpreter": {
        "hash": "916dbcbb3f70747c44a77c7bcd40155683ae19c65e1c03b4aa3499c5328201f1"
      }
    }
  },
  "nbformat": 4,
  "nbformat_minor": 0
}
